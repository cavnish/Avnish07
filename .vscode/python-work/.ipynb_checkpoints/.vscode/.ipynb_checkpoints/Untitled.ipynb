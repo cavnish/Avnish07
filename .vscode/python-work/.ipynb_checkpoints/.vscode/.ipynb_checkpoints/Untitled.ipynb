{
 "cells": [
  {
   "cell_type": "code",
   "execution_count": 7,
   "id": "0d9b87af-8646-42c9-83df-548d8d667444",
   "metadata": {},
   "outputs": [
    {
     "name": "stdout",
     "output_type": "stream",
     "text": [
      "hello\n"
     ]
    }
   ],
   "source": [
    "#strings are sequence of charactors \n",
    "print('hello')\n",
    "\n"
   ]
  },
  {
   "cell_type": "code",
   "execution_count": 1,
   "id": "7243a231-11f0-46f9-a27c-2646c6fb5f36",
   "metadata": {},
   "outputs": [
    {
     "name": "stdout",
     "output_type": "stream",
     "text": [
      "0\n",
      "1\n",
      "2\n",
      "3\n",
      "4\n"
     ]
    }
   ],
   "source": [
    "for i in range(5):\n",
    "    print(i)"
   ]
  },
  {
   "cell_type": "code",
   "execution_count": 3,
   "id": "d38eabaf",
   "metadata": {},
   "outputs": [
    {
     "name": "stdout",
     "output_type": "stream",
     "text": [
      "apple\n",
      "banana\n",
      "cherry\n",
      "avnish\n"
     ]
    }
   ],
   "source": [
    "fruits = [\"apple\", \"banana\", \"cherry\",\"avnish\"]\n",
    "for fruit in fruits:\n",
    "    print(fruit)\n"
   ]
  },
  {
   "cell_type": "code",
   "execution_count": 7,
   "id": "55edbbd0-c842-4fcf-859e-4ccbd8acd01d",
   "metadata": {},
   "outputs": [
    {
     "name": "stdout",
     "output_type": "stream",
     "text": [
      "0\n",
      "1\n",
      "2\n",
      "3\n",
      "4\n",
      "5\n",
      "6\n",
      "7\n",
      "8\n",
      "9\n"
     ]
    }
   ],
   "source": [
    "x=0\n",
    "while x<10:\n",
    "    print(x)\n",
    "    x+=1"
   ]
  },
  {
   "cell_type": "code",
   "execution_count": 9,
   "id": "ffed576c-ade0-41b4-96e0-8ca01e6ffad4",
   "metadata": {},
   "outputs": [
    {
     "name": "stdout",
     "output_type": "stream",
     "text": [
      "P\n",
      "Y\n",
      "T\n",
      "H\n",
      "O\n",
      "N\n"
     ]
    }
   ],
   "source": [
    "lang=\"PYTHON\"\n",
    "for x in lang:\n",
    "    print(x)"
   ]
  },
  {
   "cell_type": "code",
   "execution_count": 3,
   "id": "6e3f6fd7-e247-4718-b515-9f441a182122",
   "metadata": {},
   "outputs": [
    {
     "name": "stdout",
     "output_type": "stream",
     "text": [
      "True False\n"
     ]
    }
   ],
   "source": [
    "print(True ,False)"
   ]
  },
  {
   "cell_type": "code",
   "execution_count": 4,
   "id": "731f6c0d-bbb9-4ced-b538-eb680623431f",
   "metadata": {},
   "outputs": [
    {
     "name": "stdout",
     "output_type": "stream",
     "text": [
      "<class 'bool'>\n"
     ]
    }
   ],
   "source": [
    "print(type(True))"
   ]
  },
  {
   "cell_type": "code",
   "execution_count": 5,
   "id": "93beec31-c05d-4f06-913b-654df8afc330",
   "metadata": {},
   "outputs": [],
   "source": [
    "name=\"avnishchaurasiya\""
   ]
  },
  {
   "cell_type": "code",
   "execution_count": 7,
   "id": "1a362d27-1187-490b-b542-0ca224c2b569",
   "metadata": {},
   "outputs": [
    {
     "data": {
      "text/plain": [
       "'Avnish chaurasiya'"
      ]
     },
     "execution_count": 7,
     "metadata": {},
     "output_type": "execute_result"
    }
   ],
   "source": [
    "name.capitalize()"
   ]
  },
  {
   "cell_type": "code",
   "execution_count": 8,
   "id": "7fcbf08a-8aa5-4176-9644-ad9ca5521e32",
   "metadata": {},
   "outputs": [
    {
     "data": {
      "text/plain": [
       "False"
      ]
     },
     "execution_count": 8,
     "metadata": {},
     "output_type": "execute_result"
    }
   ],
   "source": [
    "name.isspace()"
   ]
  },
  {
   "cell_type": "code",
   "execution_count": 9,
   "id": "5cccf7aa-9b1b-46b2-acbf-bca4543bcdef",
   "metadata": {},
   "outputs": [
    {
     "name": "stdout",
     "output_type": "stream",
     "text": [
      "avnish chaurasiya\n"
     ]
    }
   ],
   "source": [
    "print(name)"
   ]
  },
  {
   "cell_type": "code",
   "execution_count": 13,
   "id": "9f62a9e8-75c6-46fc-baa8-7005f2d35922",
   "metadata": {},
   "outputs": [
    {
     "name": "stdout",
     "output_type": "stream",
     "text": [
      "False\n"
     ]
    }
   ],
   "source": [
    " print(name.isalpha())"
   ]
  },
  {
   "cell_type": "code",
   "execution_count": 6,
   "id": "24805a9b-1e4b-4c62-8597-dcc57649dacf",
   "metadata": {},
   "outputs": [
    {
     "name": "stdout",
     "output_type": "stream",
     "text": [
      "Hello\n"
     ]
    }
   ],
   "source": [
    "#strings are immutable\n",
    "s = \"hello\"\n",
    "# s[0] = \"H\"  # ❌ Error: strings can't be changed like this\n",
    "s = \"Hello\"  # ✅ Assigning a new string is allowed\n",
    "print(s)\n",
    "\n"
   ]
  },
  {
   "cell_type": "code",
   "execution_count": 5,
   "id": "68464c50-83cf-4325-81eb-1844ae857f42",
   "metadata": {},
   "outputs": [
    {
     "name": "stdout",
     "output_type": "stream",
     "text": [
      "P\n",
      "n\n",
      "yth\n"
     ]
    }
   ],
   "source": [
    "#string Indexing\n",
    "s = \"Python\"\n",
    "print(s[0])      # P\n",
    "print(s[-1])     # n\n",
    "print(s[1:4])    # yth\n"
   ]
  },
  {
   "cell_type": "code",
   "execution_count": null,
   "id": "4e666b78-1661-4557-ba9b-381643e721a8",
   "metadata": {},
   "outputs": [],
   "source": [
    "| Method                        | Description                                 | Example                                            |\n",
    "| ----------------------------- | ------------------------------------------- | -------------------------------------------------- |\n",
    "| `lower()`                     | Converts to lowercase                       | `\"HeLLo\".lower()` → `'hello'`                      |\n",
    "| `upper()`                     | Converts to uppercase                       | `\"python\".upper()` → `'PYTHON'`                    |\n",
    "| `capitalize()`                | Capitalizes first letter                    | `\"python\".capitalize()` → `'Python'`               |\n",
    "| `title()`                     | Capitalizes every word                      | `\"hello world\".title()` → `'Hello World'`          |\n",
    "| `strip()`                     | Removes whitespace from both ends           | `\"  hello  \".strip()` → `'hello'`                  |\n",
    "| `lstrip()` / `rstrip()`       | Removes whitespace from left/right          | `\"  hi \".lstrip()` → `'hi '`                       |\n",
    "| `replace(a, b)`               | Replaces `a` with `b`                       | `\"apple\".replace(\"a\", \"o\")` → `'opple'`            |\n",
    "| `find(sub)`                   | Finds index of substring                    | `\"hello\".find(\"l\")` → `2`                          |\n",
    "| `index(sub)`                  | Like `find()` but raises error if not found | `\"abc\".index(\"d\")` → Error                         |\n",
    "| `split(sep)`                  | Splits into a list                          | `\"a,b,c\".split(\",\")` → `['a', 'b', 'c']`           |\n",
    "| `join(list)`                  | Joins list into string                      | `\",\".join(['a', 'b'])` → `'a,b'`                   |\n",
    "| `startswith()` / `endswith()` | Checks start/end                            | `\"data.csv\".endswith(\".csv\")` → `True`             |\n",
    "| `isalpha()`                   | Checks if all characters are letters        | `\"Hello\".isalpha()` → `True`                       |\n",
    "| `isdigit()`                   | Checks if all characters are digits         | `\"123\".isdigit()` → `True`                         |\n",
    "| `isalnum()`                   | Checks if alphanumeric                      | `\"abc123\".isalnum()` → `True`                      |\n",
    "| `count(sub)`                  | Counts occurrences of substring             | `\"banana\".count(\"a\")` → `3`                        |\n",
    "| `format()`                    | String formatting                           | `\"Hello, {}\".format(\"Avnish\")` → `'Hello, Avnish'` |\n",
    "| `zfill(n)`                    | Pads with leading zeros                     | `\"42\".zfill(5)` → `'00042'`                        |\n"
   ]
  },
  {
   "cell_type": "code",
   "execution_count": 11,
   "id": "691f9a08-1797-4db7-8777-4a8dc63b5dc6",
   "metadata": {},
   "outputs": [
    {
     "name": "stdout",
     "output_type": "stream",
     "text": [
      "True\n"
     ]
    }
   ],
   "source": [
    "name=\"avnish chaurasiya\"\n",
    "n=name.split()\n",
    "r= all(n.isalpha() for n in words)\n",
    "print(r)"
   ]
  },
  {
   "cell_type": "code",
   "execution_count": 9,
   "id": "9e36957c-ae58-4fd7-8fca-6f5228b5d6fb",
   "metadata": {},
   "outputs": [
    {
     "name": "stdout",
     "output_type": "stream",
     "text": [
      "True\n"
     ]
    }
   ],
   "source": [
    "name = \"avnish chaurasiya\"\n",
    "words = name.split()  # ['avnish', 'chaurasiya']\n",
    "result = all(word.isalpha() for word in words)\n",
    "print(result)  # True\n"
   ]
  },
  {
   "cell_type": "code",
   "execution_count": 1,
   "id": "6c026e8d-6b37-4b5d-b4da-e79abc7246fc",
   "metadata": {},
   "outputs": [
    {
     "name": "stdout",
     "output_type": "stream",
     "text": [
      "Avnish Yadav\n",
      "['Python', 'is', 'easy', 'and', 'powerful']\n",
      "Python-is-easy-and-powerful\n"
     ]
    }
   ],
   "source": [
    "name = \"  Avnish Yadav  \"\n",
    "cleaned = name.strip().title()\n",
    "print(cleaned)  # Output: 'Avnish Yadav'\n",
    "\n",
    "sentence = \"Python is easy and powerful\"\n",
    "words = sentence.split()\n",
    "print(words)  # ['Python', 'is', 'easy', 'and', 'powerful']\n",
    "\n",
    "new_sentence = \"-\".join(words)\n",
    "print(new_sentence)  # 'Python-is-easy-and-powerful'\n"
   ]
  },
  {
   "cell_type": "code",
   "execution_count": 11,
   "id": "8c112570-e168-4cc1-a297-22975e266c61",
   "metadata": {},
   "outputs": [
    {
     "name": "stdout",
     "output_type": "stream",
     "text": [
      "A-v-n-i-s-h- -C-h-a-u-r-a-s-i-y-a\n"
     ]
    }
   ],
   "source": [
    "name=\" avnish chaurasiya \"\n",
    "n=name.strip().title()\n",
    "r=\"-\".join(n) \n",
    "print(r)"
   ]
  },
  {
   "cell_type": "code",
   "execution_count": 12,
   "id": "2cee4650-c5dd-44fc-9294-9e672e42715b",
   "metadata": {},
   "outputs": [
    {
     "name": "stdout",
     "output_type": "stream",
     "text": [
      "Avnish-Chaurasiya\n"
     ]
    }
   ],
   "source": [
    "name=\"avnish chaurasiya\"\n",
    "n=name.strip().title()\n",
    "r=n.split()\n",
    "re=\"-\".join(r)\n",
    "print(re)"
   ]
  },
  {
   "cell_type": "code",
   "execution_count": 15,
   "id": "24f33f28-7a9c-4961-b64b-8c5f83e8255d",
   "metadata": {},
   "outputs": [
    {
     "name": "stdout",
     "output_type": "stream",
     "text": [
      "Enter your Full Name: shrutii chaurasiya\n"
     ]
    },
    {
     "name": "stdout",
     "output_type": "stream",
     "text": [
      "Hello,Shrutii Chaurasiya!\n",
      "your user name:Shrutii_Chaurasiya\n"
     ]
    }
   ],
   "source": [
    "name=input(\"Enter your Full Name:\")\n",
    "n=name.strip().title()\n",
    "print(f\"Hello,{n}!\")\n",
    "new=n.split()\n",
    "nu=\"_\".join(new) \n",
    "print(f\"your user name:{nu}\")\n"
   ]
  },
  {
   "cell_type": "code",
   "execution_count": 3,
   "id": "65507961-c9d1-46b9-9f35-53b386e84686",
   "metadata": {},
   "outputs": [
    {
     "name": "stdout",
     "output_type": "stream",
     "text": [
      "Enter your name:  shrutii\n",
      "your age:  22\n"
     ]
    },
    {
     "name": "stdout",
     "output_type": "stream",
     "text": [
      "Hello, shrutii\n",
      "You'll be 100 year old in: 2103\n"
     ]
    }
   ],
   "source": [
    "# '''Enter your name: Avnish\n",
    "# Enter your age: 20\n",
    "# Hello, Avnish!\n",
    "# You will turn 100 years old in the year 2105.\n",
    "# ''' \n",
    "name = input(\"Enter your name: \")                 # Takes user's name as input\n",
    "age = int(input(\"your age: \"))                    # Takes age and converts it to an integer\n",
    "y = 2025 + (100 - age)                            # Calculates the year they'll turn 100\n",
    "print(f\"Hello, {name}\")                           # Greets the user\n",
    "print(f\"You'll be 100 year old in: {y}\")          # Displays the result\n"
   ]
  },
  {
   "cell_type": "code",
   "execution_count": 4,
   "id": "813297c7-9f80-4c49-a733-25c4d0b59667",
   "metadata": {},
   "outputs": [
    {
     "name": "stdout",
     "output_type": "stream",
     "text": [
      "enter 1st no: 5\n",
      "enter 2nd no: 25\n"
     ]
    },
    {
     "name": "stdout",
     "output_type": "stream",
     "text": [
      "30 -20 125 5.0\n"
     ]
    }
   ],
   "source": [
    "n1=int(input(\"enter 1st no:\"))\n",
    "n2=int(input(\"enter 2nd no:\"))\n",
    "sum=n1+n2;\n",
    "sub=n1-n2;\n",
    "product=n1*n2;\n",
    "division=n2/n1;\n",
    "print(sum,sub,product,division)"
   ]
  },
  {
   "cell_type": "code",
   "execution_count": 5,
   "id": "fcfcebc6-5830-460e-b84a-b66c038f5a8a",
   "metadata": {},
   "outputs": [
    {
     "name": "stdout",
     "output_type": "stream",
     "text": [
      "Enter 1st number:  25\n",
      "Enter 2nd number:  5\n"
     ]
    },
    {
     "name": "stdout",
     "output_type": "stream",
     "text": [
      "Sum: 30\n",
      "Difference: 20\n",
      "Product: 125\n",
      "Division: 5.0\n"
     ]
    }
   ],
   "source": [
    "n1 = int(input(\"Enter 1st number: \"))\n",
    "n2 = int(input(\"Enter 2nd number: \"))\n",
    "\n",
    "sum = n1 + n2\n",
    "sub = n1 - n2\n",
    "product = n1 * n2\n",
    "division = n1 / n2\n",
    "\n",
    "print(f\"Sum: {sum}\")\n",
    "print(f\"Difference: {sub}\")\n",
    "print(f\"Product: {product}\")\n",
    "print(f\"Division: {division}\")\n"
   ]
  },
  {
   "cell_type": "code",
   "execution_count": 1,
   "id": "c055572e-968c-43e3-be7e-35ffd8ac4e24",
   "metadata": {},
   "outputs": [
    {
     "name": "stdout",
     "output_type": "stream",
     "text": [
      "Samosa\n"
     ]
    }
   ],
   "source": [
    "#A variable is like a container or a Tiffin box where you store something tasty.\n",
    "tiffin = \"Samosa\"\n",
    "print(tiffin)  # Output: Samosa\n"
   ]
  },
  {
   "cell_type": "code",
   "execution_count": null,
   "id": "073a42cb-f108-473f-bed6-f89e4f8d3ede",
   "metadata": {},
   "outputs": [],
   "source": [
    "| Symbol | Operation           | Example (`a = 5`, `b = 2`) |\n",
    "| ------ | ------------------- | -------------------------- |\n",
    "| `+`    | Addition            | `a + b → 7`                |\n",
    "| `-`    | Subtraction         | `a - b → 3`                |\n",
    "| `*`    | Multiplication      | `a * b → 10`               |\n",
    "| `/`    | Division            | `a / b → 2.5`              |\n",
    "| `//`   | Floor Division      | `a // b → 2`               |\n",
    "| `%`    | Modulus (Remainder) | `a % b → 1`                |\n",
    "| `**`   | Power (a^b)         | `a ** b → 25`              |\n"
   ]
  },
  {
   "cell_type": "code",
   "execution_count": 6,
   "id": "18c744dd-59f1-4e80-abcf-a6393efe000b",
   "metadata": {},
   "outputs": [
    {
     "name": "stdout",
     "output_type": "stream",
     "text": [
      "Eat samosa 🥟\n"
     ]
    }
   ],
   "source": [
    "#It’s Python’s way of making decisions, like you do when choosing snacks.If-Else Conditions\n",
    "hunger = \"yes\"\n",
    "\n",
    "if hunger == \"yes\":\n",
    "    print(\"Eat samosa 🥟\")\n",
    "else:\n",
    "    print(\"Drink water 💧\")\n"
   ]
  },
  {
   "cell_type": "code",
   "execution_count": 5,
   "id": "68ae3af2-0f79-4597-8087-8f372119c378",
   "metadata": {},
   "outputs": [
    {
     "name": "stdout",
     "output_type": "stream",
     "text": [
      "Enter your mood: hanger\n"
     ]
    },
    {
     "name": "stdout",
     "output_type": "stream",
     "text": [
      "your are hanger\n",
      " eat samosha\n"
     ]
    }
   ],
   "source": [
    "mood=input(\"Enter your mood:\")\n",
    "if mood == \"hanger\":\n",
    "    print(f\"your are {mood}\\n eat samosha\")\n",
    "else:\n",
    "    print(\"drink water\")\n",
    "    \n"
   ]
  },
  {
   "cell_type": "code",
   "execution_count": null,
   "id": "c57353d4-8799-4b16-92aa-1514c98167c6",
   "metadata": {},
   "outputs": [],
   "source": []
  },
  {
   "cell_type": "code",
   "execution_count": 6,
   "id": "6e32378a-fa26-4592-897c-38105b6f2bd9",
   "metadata": {},
   "outputs": [
    {
     "name": "stdout",
     "output_type": "stream",
     "text": [
      "enter a numbr: 0\n"
     ]
    },
    {
     "name": "stdout",
     "output_type": "stream",
     "text": [
      "Number is even 0\n"
     ]
    }
   ],
   "source": [
    "#problem: prepare a code for check input number is even or odd and null\n",
    "n1=int(input(\"enter a numbr:\"))\n",
    "r=n1%2\n",
    "if r ==0:\n",
    "    print(f\"Number is even {n1}\")\n",
    "else:\n",
    "    print(\"number is odd\")\n",
    "\n"
   ]
  },
  {
   "cell_type": "code",
   "execution_count": null,
   "id": "4379213d-8dc0-41c4-9959-a5a9ca7d3984",
   "metadata": {},
   "outputs": [],
   "source": [
    "first operating system strat or lOads in memory called booting ,it is a system software "
   ]
  },
  {
   "cell_type": "code",
   "execution_count": 3,
   "id": "e811b1a0-d3a9-4988-af31-b1daa8475b38",
   "metadata": {},
   "outputs": [
    {
     "name": "stdout",
     "output_type": "stream",
     "text": [
      "25 15 20\n"
     ]
    }
   ],
   "source": [
    "x,y,z=10,15,20\n",
    "print(x+15,y,z)  #adding number & multiple varibales assigning"
   ]
  },
  {
   "cell_type": "code",
   "execution_count": null,
   "id": "5556f997-e3f4-477a-ba06-8fc113d9f692",
   "metadata": {},
   "outputs": [
    {
     "name": "stdout",
     "output_type": "stream",
     "text": [
      "2\n",
      "4\n",
      "6\n",
      "8\n"
     ]
    }
   ],
   "source": [
    "# Take each character from the string `lang`, one by one, and store it in the variable `x` during each loop.”\n",
    "\n",
    "#    * Iteration happens like this:\n",
    "\n",
    "#      * 1st loop → `x = 'P'`\n",
    "#      * 2nd loop → `x = 'Y'`\n",
    "#      * 3rd loop → `x = 'T'`\n",
    "#      * 4th loop → `x = 'H'`\n",
    "#      * 5th loop → `x = 'O'`\n",
    "#      * 6th loop → `x = 'N'`\n",
    "\n",
    "# ---\n",
    "\n",
    "# 3. **The print statement**\n",
    "\n",
    "#    ```python\n",
    "#    print(x)\n",
    "#    ```\n",
    "\n",
    "#    * During each iteration, it prints the value of `x`.\n",
    "#    * So first it prints `'P'`, then `'Y'`, then `'T'`, and so on.\n"
   ]
  },
  {
   "cell_type": "code",
   "execution_count": 13,
   "id": "5c99ff4c",
   "metadata": {},
   "outputs": [
    {
     "name": "stdout",
     "output_type": "stream",
     "text": [
      "2\n",
      "4\n",
      "6\n",
      "8\n"
     ]
    }
   ],
   "source": [
    "for x in range(2,10,2): #start,stop,step\n",
    "    print(x)"
   ]
  },
  {
   "cell_type": "code",
   "execution_count": null,
   "id": "0382c57c",
   "metadata": {},
   "outputs": [
    {
     "name": "stdout",
     "output_type": "stream",
     "text": [
      "1\n",
      "2\n",
      "3\n",
      "4\n",
      "5\n",
      "6\n",
      "7\n",
      "8\n",
      "9\n"
     ]
    }
   ],
   "source": [
    "#WHILE LOOP:\n",
    "#A WHILE LOOP KEEPS RUNNING AS LONG AS A CONDITION IS TRUE\n",
    "#ITS IS GENERALLY USED WHEN YOU \"DON'T KNOW\" HAW MANY ITERATIONS WILL BE NEEDED BEFOREHAND ,AND IT CONTINUES BASED ON A CONDITION.\n",
    "x=1\n",
    "while x<10:#condition\n",
    "    print(x)\n",
    "    x+=1"
   ]
  },
  {
   "cell_type": "code",
   "execution_count": 4,
   "id": "199fe3f6",
   "metadata": {},
   "outputs": [
    {
     "name": "stdout",
     "output_type": "stream",
     "text": [
      "2\n",
      "4\n",
      "6\n",
      "8\n"
     ]
    }
   ],
   "source": [
    "#FOR LOOP:\n",
    "#A FOR LOOP ITERATES OVER A SEUENCE (LIKE STRINGS,LIST,TUPLE,OR RANGE) AND RUNS FOR EACH ITEMS IN SEQUENCE\n",
    "#IT USED WHEN U \"KNOW\"HOW MANY TIMES YOU WNNA TO REPEAT A BLOCK..\n",
    "for i in range(2,10,2):\n",
    "    print(i)"
   ]
  },
  {
   "cell_type": "code",
   "execution_count": 5,
   "id": "17a0371c",
   "metadata": {},
   "outputs": [
    {
     "name": "stdout",
     "output_type": "stream",
     "text": [
      "1\n",
      "2\n",
      "3\n",
      "4\n"
     ]
    }
   ],
   "source": [
    "# 🔹 Loop Control Statements in Python\n",
    "# 1. break → Stop the loop completely\n",
    "# Purpose: Immediately exit the loop, even if the condition/sequence is not finished.\n",
    "# Use case: When you find what you’re looking for and don’t need to continue.\n",
    "\n",
    "# Example:\n",
    "for num in range(1, 10):\n",
    "    if num == 5:\n",
    "        break\n",
    "    print(num)"
   ]
  },
  {
   "cell_type": "code",
   "execution_count": 6,
   "id": "9c936e44",
   "metadata": {},
   "outputs": [
    {
     "name": "stdout",
     "output_type": "stream",
     "text": [
      "1\n",
      "2\n",
      "4\n",
      "5\n"
     ]
    }
   ],
   "source": [
    "# 2. continue → Skip current iteration\n",
    "# Purpose: Skip the rest of the code in the loop for the current iteration, then move to the next one.\n",
    "# Use case: When you want to ignore certain values.\n",
    "# Example:\n",
    "for num in range(1, 6):\n",
    "    if num == 3:\n",
    "        continue\n",
    "    print(num)\n",
    "\n",
    "\n"
   ]
  },
  {
   "cell_type": "code",
   "execution_count": null,
   "id": "0fd4f30b",
   "metadata": {},
   "outputs": [
    {
     "name": "stdout",
     "output_type": "stream",
     "text": [
      "P\n",
      "Y\n",
      "T\n",
      "H\n",
      "O\n",
      "N\n"
     ]
    }
   ],
   "source": [
    "# 3. pass → Do nothing (placeholder)\n",
    "# Purpose: A dummy statement that does nothing.\n",
    "# Use case: Useful when you haven’t decided what to write in a loop yet, but still need valid syntax.# Example:\n",
    "for letter in \"PYTHON\":\n",
    "    if letter == \"H\":\n",
    "        pass  # do nothing\n",
    "    print(letter)"
   ]
  },
  {
   "cell_type": "code",
   "execution_count": null,
   "id": "461b775b",
   "metadata": {},
   "outputs": [],
   "source": []
  }
 ],
 "metadata": {
  "kernelspec": {
   "display_name": "Python 3",
   "language": "python",
   "name": "python3"
  },
  "language_info": {
   "codemirror_mode": {
    "name": "ipython",
    "version": 3
   },
   "file_extension": ".py",
   "mimetype": "text/x-python",
   "name": "python",
   "nbconvert_exporter": "python",
   "pygments_lexer": "ipython3",
   "version": "3.12.1"
  }
 },
 "nbformat": 4,
 "nbformat_minor": 5
}
